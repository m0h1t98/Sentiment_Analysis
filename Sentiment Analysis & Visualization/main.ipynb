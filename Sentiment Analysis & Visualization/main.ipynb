{
 "cells": [
  {
   "cell_type": "markdown",
   "metadata": {},
   "source": [
    "### Step -1 : Import Libraries"
   ]
  },
  {
   "cell_type": "code",
   "execution_count": 1,
   "metadata": {},
   "outputs": [],
   "source": [
    "import pandas as pd \n",
    "import os \n",
    "import sys\n",
    "import seaborn as sns\n",
    "import numpy as np\n",
    "import matplotlib.pyplot as plt"
   ]
  },
  {
   "cell_type": "markdown",
   "metadata": {},
   "source": [
    "### Step -2 : Import Dataset"
   ]
  },
  {
   "cell_type": "code",
   "execution_count": 2,
   "metadata": {},
   "outputs": [
    {
     "data": {
      "text/html": [
       "<div>\n",
       "<style scoped>\n",
       "    .dataframe tbody tr th:only-of-type {\n",
       "        vertical-align: middle;\n",
       "    }\n",
       "\n",
       "    .dataframe tbody tr th {\n",
       "        vertical-align: top;\n",
       "    }\n",
       "\n",
       "    .dataframe thead th {\n",
       "        text-align: right;\n",
       "    }\n",
       "</style>\n",
       "<table border=\"1\" class=\"dataframe\">\n",
       "  <thead>\n",
       "    <tr style=\"text-align: right;\">\n",
       "      <th></th>\n",
       "      <th>title</th>\n",
       "      <th>content</th>\n",
       "      <th>date</th>\n",
       "      <th>variant</th>\n",
       "      <th>images</th>\n",
       "      <th>verified</th>\n",
       "      <th>author</th>\n",
       "      <th>rating</th>\n",
       "      <th>product</th>\n",
       "      <th>url</th>\n",
       "    </tr>\n",
       "  </thead>\n",
       "  <tbody>\n",
       "    <tr>\n",
       "      <th>0</th>\n",
       "      <td>Defective mobile and poor service</td>\n",
       "      <td>Look wise this is good but it's performance wa...</td>\n",
       "      <td>27-Aug-19</td>\n",
       "      <td>NaN</td>\n",
       "      <td>NaN</td>\n",
       "      <td>Yes</td>\n",
       "      <td>Pankaj kumar Jha</td>\n",
       "      <td>1</td>\n",
       "      <td>Lenovo K6 Note (Silver)</td>\n",
       "      <td>https://www.amazon.in/Lenovo-K6-Note-Silver/pr...</td>\n",
       "    </tr>\n",
       "    <tr>\n",
       "      <th>1</th>\n",
       "      <td>Poor Experience with Lenovo and Amazon</td>\n",
       "      <td>This product has a very poor performance inter...</td>\n",
       "      <td>30-Nov-17</td>\n",
       "      <td>NaN</td>\n",
       "      <td>NaN</td>\n",
       "      <td>Yes</td>\n",
       "      <td>mani</td>\n",
       "      <td>1</td>\n",
       "      <td>Lenovo K6 Note (Silver)</td>\n",
       "      <td>https://www.amazon.in/Lenovo-K6-Note-Silver/pr...</td>\n",
       "    </tr>\n",
       "    <tr>\n",
       "      <th>2</th>\n",
       "      <td>Please Don't Buy This Product</td>\n",
       "      <td>Phone look &amp; design good, I used this phone af...</td>\n",
       "      <td>02-Sep-17</td>\n",
       "      <td>NaN</td>\n",
       "      <td>NaN</td>\n",
       "      <td>Yes</td>\n",
       "      <td>Abdul Wasey</td>\n",
       "      <td>2</td>\n",
       "      <td>Lenovo K6 Note (Silver)</td>\n",
       "      <td>https://www.amazon.in/Lenovo-K6-Note-Silver/pr...</td>\n",
       "    </tr>\n",
       "    <tr>\n",
       "      <th>3</th>\n",
       "      <td>Very very bad product</td>\n",
       "      <td>This phone is the worst possible ph I have eve...</td>\n",
       "      <td>18-Aug-20</td>\n",
       "      <td>NaN</td>\n",
       "      <td>NaN</td>\n",
       "      <td>Yes</td>\n",
       "      <td>Saptarshi Mukherjee</td>\n",
       "      <td>1</td>\n",
       "      <td>Lenovo K6 Note (Silver)</td>\n",
       "      <td>https://www.amazon.in/Lenovo-K6-Note-Silver/pr...</td>\n",
       "    </tr>\n",
       "    <tr>\n",
       "      <th>4</th>\n",
       "      <td>Must read it's useful</td>\n",
       "      <td>The mobile phone was good. And I'm facing some...</td>\n",
       "      <td>13-Feb-18</td>\n",
       "      <td>NaN</td>\n",
       "      <td>NaN</td>\n",
       "      <td>Yes</td>\n",
       "      <td>Sathish</td>\n",
       "      <td>3</td>\n",
       "      <td>Lenovo K6 Note (Silver)</td>\n",
       "      <td>https://www.amazon.in/Lenovo-K6-Note-Silver/pr...</td>\n",
       "    </tr>\n",
       "  </tbody>\n",
       "</table>\n",
       "</div>"
      ],
      "text/plain": [
       "                                    title  \\\n",
       "0       Defective mobile and poor service   \n",
       "1  Poor Experience with Lenovo and Amazon   \n",
       "2           Please Don't Buy This Product   \n",
       "3                   Very very bad product   \n",
       "4                   Must read it's useful   \n",
       "\n",
       "                                             content       date variant  \\\n",
       "0  Look wise this is good but it's performance wa...  27-Aug-19     NaN   \n",
       "1  This product has a very poor performance inter...  30-Nov-17     NaN   \n",
       "2  Phone look & design good, I used this phone af...  02-Sep-17     NaN   \n",
       "3  This phone is the worst possible ph I have eve...  18-Aug-20     NaN   \n",
       "4  The mobile phone was good. And I'm facing some...  13-Feb-18     NaN   \n",
       "\n",
       "  images verified               author  rating                  product  \\\n",
       "0    NaN      Yes     Pankaj kumar Jha       1  Lenovo K6 Note (Silver)   \n",
       "1    NaN      Yes                 mani       1  Lenovo K6 Note (Silver)   \n",
       "2    NaN      Yes          Abdul Wasey       2  Lenovo K6 Note (Silver)   \n",
       "3    NaN      Yes  Saptarshi Mukherjee       1  Lenovo K6 Note (Silver)   \n",
       "4    NaN      Yes              Sathish       3  Lenovo K6 Note (Silver)   \n",
       "\n",
       "                                                 url  \n",
       "0  https://www.amazon.in/Lenovo-K6-Note-Silver/pr...  \n",
       "1  https://www.amazon.in/Lenovo-K6-Note-Silver/pr...  \n",
       "2  https://www.amazon.in/Lenovo-K6-Note-Silver/pr...  \n",
       "3  https://www.amazon.in/Lenovo-K6-Note-Silver/pr...  \n",
       "4  https://www.amazon.in/Lenovo-K6-Note-Silver/pr...  "
      ]
     },
     "execution_count": 2,
     "metadata": {},
     "output_type": "execute_result"
    }
   ],
   "source": [
    "df = pd.read_csv(\"data.csv\")\n",
    "df.head(5)"
   ]
  },
  {
   "cell_type": "code",
   "execution_count": 3,
   "metadata": {},
   "outputs": [
    {
     "data": {
      "text/plain": [
       "(100, 10)"
      ]
     },
     "execution_count": 3,
     "metadata": {},
     "output_type": "execute_result"
    }
   ],
   "source": [
    "# dataset shape - number of rows and columns\n",
    "df.shape"
   ]
  },
  {
   "cell_type": "code",
   "execution_count": 4,
   "metadata": {},
   "outputs": [
    {
     "data": {
      "text/plain": [
       "<bound method DataFrame.info of                                             title  \\\n",
       "0               Defective mobile and poor service   \n",
       "1          Poor Experience with Lenovo and Amazon   \n",
       "2                   Please Don't Buy This Product   \n",
       "3                           Very very bad product   \n",
       "4                           Must read it's useful   \n",
       "..                                            ...   \n",
       "95                  Review after 10 months of use   \n",
       "96                                     Disappoint   \n",
       "97  It's a horrible phone with plethora of issues   \n",
       "98                        Not so good. Just okay.   \n",
       "99           Pathetic phone - please don't buy it   \n",
       "\n",
       "                                              content       date  \\\n",
       "0   Look wise this is good but it's performance wa...  27-Aug-19   \n",
       "1   This product has a very poor performance inter...  30-Nov-17   \n",
       "2   Phone look & design good, I used this phone af...  02-Sep-17   \n",
       "3   This phone is the worst possible ph I have eve...  18-Aug-20   \n",
       "4   The mobile phone was good. And I'm facing some...  13-Feb-18   \n",
       "..                                                ...        ...   \n",
       "95  I am writing this review after 10 months. So h...  09-Nov-18   \n",
       "96  Bought this phone in May 18 from starting it h...  14-Nov-18   \n",
       "97  It is one of the worst handsets I bought and m...  21-Aug-18   \n",
       "98  Been using it four months. It's not that good....  03-May-18   \n",
       "99  Please don't buy this phone. Even though Motor...  11-Jul-18   \n",
       "\n",
       "               variant images verified               author  rating  \\\n",
       "0                  NaN    NaN      Yes     Pankaj kumar Jha       1   \n",
       "1                  NaN    NaN      Yes                 mani       1   \n",
       "2                  NaN    NaN      Yes          Abdul Wasey       2   \n",
       "3                  NaN    NaN      Yes  Saptarshi Mukherjee       1   \n",
       "4                  NaN    NaN      Yes              Sathish       3   \n",
       "..                 ...    ...      ...                  ...     ...   \n",
       "95  Colour: Lunar Grey    NaN      Yes          Pramod Nair       3   \n",
       "96  Colour: Lunar Grey    NaN      Yes      Amazon Customer       1   \n",
       "97  Colour: Lunar Grey    NaN      Yes          Aman Sharma       1   \n",
       "98                 NaN    NaN      Yes                 manu       3   \n",
       "99  Colour: Lunar Grey    NaN      Yes             Partha S       1   \n",
       "\n",
       "                                 product  \\\n",
       "0                Lenovo K6 Note (Silver)   \n",
       "1                Lenovo K6 Note (Silver)   \n",
       "2                Lenovo K6 Note (Silver)   \n",
       "3                Lenovo K6 Note (Silver)   \n",
       "4                Lenovo K6 Note (Silver)   \n",
       "..                                   ...   \n",
       "95  Motorola G5s Plus (Lunar Grey, 64GB)   \n",
       "96  Motorola G5s Plus (Lunar Grey, 64GB)   \n",
       "97  Motorola G5s Plus (Lunar Grey, 64GB)   \n",
       "98  Motorola G5s Plus (Lunar Grey, 64GB)   \n",
       "99  Motorola G5s Plus (Lunar Grey, 64GB)   \n",
       "\n",
       "                                                  url  \n",
       "0   https://www.amazon.in/Lenovo-K6-Note-Silver/pr...  \n",
       "1   https://www.amazon.in/Lenovo-K6-Note-Silver/pr...  \n",
       "2   https://www.amazon.in/Lenovo-K6-Note-Silver/pr...  \n",
       "3   https://www.amazon.in/Lenovo-K6-Note-Silver/pr...  \n",
       "4   https://www.amazon.in/Lenovo-K6-Note-Silver/pr...  \n",
       "..                                                ...  \n",
       "95  https://www.amazon.in/Moto-Plus-Lunar-Grey-64G...  \n",
       "96  https://www.amazon.in/Moto-Plus-Lunar-Grey-64G...  \n",
       "97  https://www.amazon.in/Moto-Plus-Lunar-Grey-64G...  \n",
       "98  https://www.amazon.in/Moto-Plus-Lunar-Grey-64G...  \n",
       "99  https://www.amazon.in/Moto-Plus-Lunar-Grey-64G...  \n",
       "\n",
       "[100 rows x 10 columns]>"
      ]
     },
     "execution_count": 4,
     "metadata": {},
     "output_type": "execute_result"
    }
   ],
   "source": [
    "# dataset informaion\n",
    "df.info"
   ]
  },
  {
   "cell_type": "code",
   "execution_count": 5,
   "metadata": {},
   "outputs": [
    {
     "data": {
      "text/plain": [
       "title        0\n",
       "content      0\n",
       "date         0\n",
       "variant     83\n",
       "images      90\n",
       "verified     0\n",
       "author       0\n",
       "rating       0\n",
       "product      0\n",
       "url          0\n",
       "dtype: int64"
      ]
     },
     "execution_count": 5,
     "metadata": {},
     "output_type": "execute_result"
    }
   ],
   "source": [
    "# checking the null Values\n",
    "df.isna().sum()"
   ]
  },
  {
   "cell_type": "code",
   "execution_count": 6,
   "metadata": {},
   "outputs": [
    {
     "data": {
      "text/plain": [
       "<matplotlib.axes._subplots.AxesSubplot at 0x11f445b0>"
      ]
     },
     "execution_count": 6,
     "metadata": {},
     "output_type": "execute_result"
    },
    {
     "data": {
      "image/png": "[encoded data removed]",
      "text/plain": [
       "<Figure size 432x288 with 1 Axes>"
      ]
     },
     "metadata": {
      "needs_background": "light"
     },
     "output_type": "display_data"
    }
   ],
   "source": [
    "# checking the null Values using Heatmap\n",
    "sns.heatmap(df.isnull(), yticklabels=False, cbar=False, cmap='viridis')"
   ]
  },
  {
   "cell_type": "code",
   "execution_count": 7,
   "metadata": {},
   "outputs": [
    {
     "data": {
      "text/html": [
       "<div>\n",
       "<style scoped>\n",
       "    .dataframe tbody tr th:only-of-type {\n",
       "        vertical-align: middle;\n",
       "    }\n",
       "\n",
       "    .dataframe tbody tr th {\n",
       "        vertical-align: top;\n",
       "    }\n",
       "\n",
       "    .dataframe thead th {\n",
       "        text-align: right;\n",
       "    }\n",
       "</style>\n",
       "<table border=\"1\" class=\"dataframe\">\n",
       "  <thead>\n",
       "    <tr style=\"text-align: right;\">\n",
       "      <th></th>\n",
       "      <th>rating</th>\n",
       "    </tr>\n",
       "  </thead>\n",
       "  <tbody>\n",
       "    <tr>\n",
       "      <th>count</th>\n",
       "      <td>100.000000</td>\n",
       "    </tr>\n",
       "    <tr>\n",
       "      <th>mean</th>\n",
       "      <td>2.700000</td>\n",
       "    </tr>\n",
       "    <tr>\n",
       "      <th>std</th>\n",
       "      <td>1.623688</td>\n",
       "    </tr>\n",
       "    <tr>\n",
       "      <th>min</th>\n",
       "      <td>1.000000</td>\n",
       "    </tr>\n",
       "    <tr>\n",
       "      <th>25%</th>\n",
       "      <td>1.000000</td>\n",
       "    </tr>\n",
       "    <tr>\n",
       "      <th>50%</th>\n",
       "      <td>2.500000</td>\n",
       "    </tr>\n",
       "    <tr>\n",
       "      <th>75%</th>\n",
       "      <td>4.000000</td>\n",
       "    </tr>\n",
       "    <tr>\n",
       "      <th>max</th>\n",
       "      <td>5.000000</td>\n",
       "    </tr>\n",
       "  </tbody>\n",
       "</table>\n",
       "</div>"
      ],
      "text/plain": [
       "           rating\n",
       "count  100.000000\n",
       "mean     2.700000\n",
       "std      1.623688\n",
       "min      1.000000\n",
       "25%      1.000000\n",
       "50%      2.500000\n",
       "75%      4.000000\n",
       "max      5.000000"
      ]
     },
     "execution_count": 7,
     "metadata": {},
     "output_type": "execute_result"
    }
   ],
   "source": [
    "# get the statistics of dataset\n",
    "df.describe()"
   ]
  },
  {
   "cell_type": "code",
   "execution_count": 8,
   "metadata": {},
   "outputs": [
    {
     "data": {
      "text/plain": [
       "<seaborn.axisgrid.PairGrid at 0x12f9a1d8>"
      ]
     },
     "execution_count": 8,
     "metadata": {},
     "output_type": "execute_result"
    },
    {
     "data": {
      "image/png": "[encoded data removed]",
      "text/plain": [
       "<Figure size 180x180 with 2 Axes>"
      ]
     },
     "metadata": {
      "needs_background": "light"
     },
     "output_type": "display_data"
    }
   ],
   "source": [
    "sns.pairplot(df)"
   ]
  },
  {
   "cell_type": "markdown",
   "metadata": {},
   "source": [
    "### Step -3 : Information"
   ]
  },
  {
   "cell_type": "markdown",
   "metadata": {},
   "source": [
    "#### How many Brands are there ?"
   ]
  },
  {
   "cell_type": "code",
   "execution_count": 9,
   "metadata": {},
   "outputs": [
    {
     "name": "stdout",
     "output_type": "stream",
     "text": [
      "10\n"
     ]
    },
    {
     "data": {
      "text/plain": [
       "array(['Lenovo K6 Note (Silver)', 'Lenovo A6600 Plus (Black)',\n",
       "       'Moto E5 Plus (Black, 3GB RAM, 32GB Storage)',\n",
       "       'Motorola Moto X4 (Super Black, 32GB)',\n",
       "       'Honor 7C Gold (5.99\" FullView Display, 64GB)',\n",
       "       'Nokia 6 (Matte Black, 32GB)', 'Nokia 6 (Silver, 32GB)',\n",
       "       'Redmi 5 (Black, 3GB RAM, 32GB Storage)',\n",
       "       'Nokia 8 (Polished Blue, 64GB)',\n",
       "       'Motorola G5s Plus (Lunar Grey, 64GB)'], dtype=object)"
      ]
     },
     "execution_count": 9,
     "metadata": {},
     "output_type": "execute_result"
    }
   ],
   "source": [
    "print(df[\"product\"].nunique())\n",
    "df[\"product\"].unique()"
   ]
  },
  {
   "cell_type": "markdown",
   "metadata": {},
   "source": [
    "#### How Many Brands of Mobile have Maximum ratings"
   ]
  },
  {
   "cell_type": "code",
   "execution_count": 10,
   "metadata": {},
   "outputs": [
    {
     "name": "stdout",
     "output_type": "stream",
     "text": [
      "7\n",
      "['Moto E5 Plus (Black, 3GB RAM, 32GB Storage)'\n",
      " 'Motorola Moto X4 (Super Black, 32GB)'\n",
      " 'Honor 7C Gold (5.99\" FullView Display, 64GB)'\n",
      " 'Nokia 6 (Matte Black, 32GB)' 'Nokia 6 (Silver, 32GB)'\n",
      " 'Redmi 5 (Black, 3GB RAM, 32GB Storage)' 'Nokia 8 (Polished Blue, 64GB)']\n",
      "None\n"
     ]
    }
   ],
   "source": [
    "print(df[\"product\"][df[\"rating\"] == df[\"rating\"].max()].nunique())\n",
    "print(print(df[\"product\"][df[\"rating\"] == df[\"rating\"].max()].unique()))"
   ]
  },
  {
   "cell_type": "markdown",
   "metadata": {},
   "source": [
    "#### How many  brands has Mininum Ratings what are their names "
   ]
  },
  {
   "cell_type": "code",
   "execution_count": 11,
   "metadata": {},
   "outputs": [
    {
     "name": "stdout",
     "output_type": "stream",
     "text": [
      "10\n",
      "['Lenovo K6 Note (Silver)' 'Lenovo A6600 Plus (Black)'\n",
      " 'Moto E5 Plus (Black, 3GB RAM, 32GB Storage)'\n",
      " 'Motorola Moto X4 (Super Black, 32GB)'\n",
      " 'Honor 7C Gold (5.99\" FullView Display, 64GB)'\n",
      " 'Nokia 6 (Matte Black, 32GB)' 'Nokia 6 (Silver, 32GB)'\n",
      " 'Redmi 5 (Black, 3GB RAM, 32GB Storage)' 'Nokia 8 (Polished Blue, 64GB)'\n",
      " 'Motorola G5s Plus (Lunar Grey, 64GB)']\n",
      "None\n"
     ]
    }
   ],
   "source": [
    "print(df[\"product\"][df[\"rating\"] == df[\"rating\"].min()].nunique())\n",
    "print(print(df[\"product\"][df[\"rating\"] == df[\"rating\"].min()].unique()))"
   ]
  },
  {
   "cell_type": "markdown",
   "metadata": {},
   "source": [
    "#### Data Visualization"
   ]
  },
  {
   "cell_type": "code",
   "execution_count": 12,
   "metadata": {},
   "outputs": [],
   "source": [
    "df1 = df.groupby(by='product').mean()"
   ]
  },
  {
   "cell_type": "code",
   "execution_count": 13,
   "metadata": {},
   "outputs": [
    {
     "data": {
      "text/plain": [
       "Text(0.5, 1.0, 'Brands vs Average Ratings ')"
      ]
     },
     "execution_count": 13,
     "metadata": {},
     "output_type": "execute_result"
    },
    {
     "data": {
      "image/png": "[encoded data removed]",
      "text/plain": [
       "<Figure size 432x288 with 1 Axes>"
      ]
     },
     "metadata": {
      "needs_background": "light"
     },
     "output_type": "display_data"
    }
   ],
   "source": [
    "df1[\"rating\"].plot(kind='bar')\n",
    "plt.xlabel(\"Brands\")\n",
    "plt.ylabel(\"Average Ratings \")\n",
    "plt.title(\"Brands vs Average Ratings \")"
   ]
  },
  {
   "cell_type": "code",
   "execution_count": 14,
   "metadata": {},
   "outputs": [
    {
     "data": {
      "image/png": "[encoded data removed]",
      "text/plain": [
       "<Figure size 1440x1080 with 1 Axes>"
      ]
     },
     "metadata": {
      "needs_background": "light"
     },
     "output_type": "display_data"
    }
   ],
   "source": [
    "df.hist(bins=50, figsize=(20,15))\n",
    "plt.show()"
   ]
  },
  {
   "cell_type": "markdown",
   "metadata": {},
   "source": [
    "### Step - 4 : Split Data into train and Test"
   ]
  },
  {
   "cell_type": "code",
   "execution_count": 15,
   "metadata": {},
   "outputs": [
    {
     "name": "stdout",
     "output_type": "stream",
     "text": [
      "Before 100\n",
      "After 100\n"
     ]
    }
   ],
   "source": [
    "from sklearn.model_selection import StratifiedShuffleSplit\n",
    "\n",
    "print(\"Before {}\".format(len(df)))\n",
    "dataAfter = df.dropna(subset=[\"rating\"])\n",
    "\n",
    "# Removes all NAN in reviews.rating\n",
    "print(\"After {}\".format(len(dataAfter)))\n",
    "dataAfter[\"rating\"] = dataAfter[\"rating\"].astype(int)"
   ]
  },
  {
   "cell_type": "code",
   "execution_count": 16,
   "metadata": {},
   "outputs": [],
   "source": [
    "split = StratifiedShuffleSplit(n_splits=5, test_size=0.2)\n",
    "\n",
    "# shuffling and spliting data into train and test \n",
    "for train_index, test_index in split.split(dataAfter, dataAfter[\"rating\"]): \n",
    "    strat_train = dataAfter.reindex(train_index)\n",
    "    strat_test = dataAfter.reindex(test_index)"
   ]
  },
  {
   "cell_type": "code",
   "execution_count": 17,
   "metadata": {},
   "outputs": [
    {
     "name": "stdout",
     "output_type": "stream",
     "text": [
      "80\n"
     ]
    },
    {
     "data": {
      "text/plain": [
       "1    0.4\n",
       "5    0.2\n",
       "4    0.2\n",
       "3    0.1\n",
       "2    0.1\n",
       "Name: rating, dtype: float64"
      ]
     },
     "execution_count": 17,
     "metadata": {},
     "output_type": "execute_result"
    }
   ],
   "source": [
    "print(len(strat_train))\n",
    "\n",
    "# calculating rating range - feature scaling\n",
    "strat_train[\"rating\"].value_counts()/len(strat_train)"
   ]
  },
  {
   "cell_type": "code",
   "execution_count": 18,
   "metadata": {},
   "outputs": [
    {
     "name": "stdout",
     "output_type": "stream",
     "text": [
      "20\n"
     ]
    },
    {
     "data": {
      "text/plain": [
       "1    0.4\n",
       "5    0.2\n",
       "4    0.2\n",
       "3    0.1\n",
       "2    0.1\n",
       "Name: rating, dtype: float64"
      ]
     },
     "execution_count": 18,
     "metadata": {},
     "output_type": "execute_result"
    }
   ],
   "source": [
    "print(len(strat_test))\n",
    "strat_test[\"rating\"].value_counts()/len(strat_test)"
   ]
  },
  {
   "cell_type": "markdown",
   "metadata": {},
   "source": [
    "### Step -5 : EDA"
   ]
  },
  {
   "cell_type": "code",
   "execution_count": 19,
   "metadata": {},
   "outputs": [
    {
     "data": {
      "text/html": [
       "<div>\n",
       "<style scoped>\n",
       "    .dataframe tbody tr th:only-of-type {\n",
       "        vertical-align: middle;\n",
       "    }\n",
       "\n",
       "    .dataframe tbody tr th {\n",
       "        vertical-align: top;\n",
       "    }\n",
       "\n",
       "    .dataframe thead th {\n",
       "        text-align: right;\n",
       "    }\n",
       "</style>\n",
       "<table border=\"1\" class=\"dataframe\">\n",
       "  <thead>\n",
       "    <tr style=\"text-align: right;\">\n",
       "      <th></th>\n",
       "      <th>title</th>\n",
       "      <th>content</th>\n",
       "      <th>date</th>\n",
       "      <th>variant</th>\n",
       "      <th>images</th>\n",
       "      <th>verified</th>\n",
       "      <th>author</th>\n",
       "      <th>rating</th>\n",
       "      <th>product</th>\n",
       "      <th>url</th>\n",
       "    </tr>\n",
       "  </thead>\n",
       "  <tbody>\n",
       "    <tr>\n",
       "      <th>49</th>\n",
       "      <td>Good product</td>\n",
       "      <td>Phone is perfect for the price range but it do...</td>\n",
       "      <td>05-Oct-18</td>\n",
       "      <td>NaN</td>\n",
       "      <td>NaN</td>\n",
       "      <td>Yes</td>\n",
       "      <td>avinash dubey</td>\n",
       "      <td>4</td>\n",
       "      <td>Honor 7C Gold (5.99\" FullView Display, 64GB)</td>\n",
       "      <td>https://www.amazon.in/Honor-Gold-5-99-FullView...</td>\n",
       "    </tr>\n",
       "    <tr>\n",
       "      <th>94</th>\n",
       "      <td>Over heating product from Motorola.</td>\n",
       "      <td>I disliked the product. It's overheating while...</td>\n",
       "      <td>19-Oct-18</td>\n",
       "      <td>Colour: Lunar Grey</td>\n",
       "      <td>NaN</td>\n",
       "      <td>Yes</td>\n",
       "      <td>Amazon Customer</td>\n",
       "      <td>1</td>\n",
       "      <td>Motorola G5s Plus (Lunar Grey, 64GB)</td>\n",
       "      <td>https://www.amazon.in/Moto-Plus-Lunar-Grey-64G...</td>\n",
       "    </tr>\n",
       "    <tr>\n",
       "      <th>0</th>\n",
       "      <td>Defective mobile and poor service</td>\n",
       "      <td>Look wise this is good but it's performance wa...</td>\n",
       "      <td>27-Aug-19</td>\n",
       "      <td>NaN</td>\n",
       "      <td>NaN</td>\n",
       "      <td>Yes</td>\n",
       "      <td>Pankaj kumar Jha</td>\n",
       "      <td>1</td>\n",
       "      <td>Lenovo K6 Note (Silver)</td>\n",
       "      <td>https://www.amazon.in/Lenovo-K6-Note-Silver/pr...</td>\n",
       "    </tr>\n",
       "    <tr>\n",
       "      <th>21</th>\n",
       "      <td>Delicate Product</td>\n",
       "      <td>I am a fan of Moto G series mainly due to its ...</td>\n",
       "      <td>12-Oct-18</td>\n",
       "      <td>Colour: black</td>\n",
       "      <td>NaN</td>\n",
       "      <td>Yes</td>\n",
       "      <td>Prashant Aggarwal</td>\n",
       "      <td>1</td>\n",
       "      <td>Moto E5 Plus (Black, 3GB RAM, 32GB Storage)</td>\n",
       "      <td>https://www.amazon.in/Moto-Plus-Indigo-Black-b...</td>\n",
       "    </tr>\n",
       "    <tr>\n",
       "      <th>52</th>\n",
       "      <td>Though Snapdragon 430 is a Frustrating For The...</td>\n",
       "      <td>Picture Quality - Well, Picture Is Great. Its ...</td>\n",
       "      <td>04-Dec-18</td>\n",
       "      <td>NaN</td>\n",
       "      <td>NaN</td>\n",
       "      <td>Yes</td>\n",
       "      <td>Loyal Customer</td>\n",
       "      <td>4</td>\n",
       "      <td>Nokia 6 (Matte Black, 32GB)</td>\n",
       "      <td>https://www.amazon.in/Nokia-6-Matte-Black-32GB...</td>\n",
       "    </tr>\n",
       "  </tbody>\n",
       "</table>\n",
       "</div>"
      ],
      "text/plain": [
       "                                                title  \\\n",
       "49                                       Good product   \n",
       "94                Over heating product from Motorola.   \n",
       "0                   Defective mobile and poor service   \n",
       "21                                   Delicate Product   \n",
       "52  Though Snapdragon 430 is a Frustrating For The...   \n",
       "\n",
       "                                              content       date  \\\n",
       "49  Phone is perfect for the price range but it do...  05-Oct-18   \n",
       "94  I disliked the product. It's overheating while...  19-Oct-18   \n",
       "0   Look wise this is good but it's performance wa...  27-Aug-19   \n",
       "21  I am a fan of Moto G series mainly due to its ...  12-Oct-18   \n",
       "52  Picture Quality - Well, Picture Is Great. Its ...  04-Dec-18   \n",
       "\n",
       "               variant images verified             author  rating  \\\n",
       "49                 NaN    NaN      Yes      avinash dubey       4   \n",
       "94  Colour: Lunar Grey    NaN      Yes    Amazon Customer       1   \n",
       "0                  NaN    NaN      Yes   Pankaj kumar Jha       1   \n",
       "21       Colour: black    NaN      Yes  Prashant Aggarwal       1   \n",
       "52                 NaN    NaN      Yes     Loyal Customer       4   \n",
       "\n",
       "                                         product  \\\n",
       "49  Honor 7C Gold (5.99\" FullView Display, 64GB)   \n",
       "94          Motorola G5s Plus (Lunar Grey, 64GB)   \n",
       "0                        Lenovo K6 Note (Silver)   \n",
       "21   Moto E5 Plus (Black, 3GB RAM, 32GB Storage)   \n",
       "52                   Nokia 6 (Matte Black, 32GB)   \n",
       "\n",
       "                                                  url  \n",
       "49  https://www.amazon.in/Honor-Gold-5-99-FullView...  \n",
       "94  https://www.amazon.in/Moto-Plus-Lunar-Grey-64G...  \n",
       "0   https://www.amazon.in/Lenovo-K6-Note-Silver/pr...  \n",
       "21  https://www.amazon.in/Moto-Plus-Indigo-Black-b...  \n",
       "52  https://www.amazon.in/Nokia-6-Matte-Black-32GB...  "
      ]
     },
     "execution_count": 19,
     "metadata": {},
     "output_type": "execute_result"
    }
   ],
   "source": [
    "reviews = strat_train.copy()\n",
    "reviews.head(5)"
   ]
  },
  {
   "cell_type": "code",
   "execution_count": 20,
   "metadata": {},
   "outputs": [
    {
     "data": {
      "text/plain": [
       "10"
      ]
     },
     "execution_count": 20,
     "metadata": {},
     "output_type": "execute_result"
    }
   ],
   "source": [
    "len(reviews[\"product\"].unique())   # number of unique products"
   ]
  },
  {
   "cell_type": "code",
   "execution_count": 21,
   "metadata": {},
   "outputs": [
    {
     "data": {
      "image/png": "[encoded data removed]",
      "text/plain": [
       "<Figure size 1152x720 with 2 Axes>"
      ]
     },
     "metadata": {
      "needs_background": "light"
     },
     "output_type": "display_data"
    }
   ],
   "source": [
    "fig = plt.figure(figsize=(16,10))\n",
    "ax1 = plt.subplot(211)\n",
    "ax2 = plt.subplot(212, sharex = ax1)\n",
    "reviews[\"rating\"].value_counts().plot(kind=\"bar\", ax=ax1, title=\"Rating\")\n",
    "np.log10(reviews[\"rating\"].value_counts()).plot(kind=\"bar\", ax=ax2, \n",
    "                                               title=\"Rating(Log10 Adjusted)\") \n",
    "plt.show()"
   ]
  },
  {
   "cell_type": "markdown",
   "metadata": {},
   "source": [
    "#### Correlation"
   ]
  },
  {
   "cell_type": "code",
   "execution_count": 22,
   "metadata": {},
   "outputs": [
    {
     "data": {
      "text/html": [
       "<div>\n",
       "<style scoped>\n",
       "    .dataframe tbody tr th:only-of-type {\n",
       "        vertical-align: middle;\n",
       "    }\n",
       "\n",
       "    .dataframe tbody tr th {\n",
       "        vertical-align: top;\n",
       "    }\n",
       "\n",
       "    .dataframe thead th {\n",
       "        text-align: right;\n",
       "    }\n",
       "</style>\n",
       "<table border=\"1\" class=\"dataframe\">\n",
       "  <thead>\n",
       "    <tr style=\"text-align: right;\">\n",
       "      <th></th>\n",
       "      <th>rating</th>\n",
       "    </tr>\n",
       "  </thead>\n",
       "  <tbody>\n",
       "    <tr>\n",
       "      <th>rating</th>\n",
       "      <td>1.0</td>\n",
       "    </tr>\n",
       "  </tbody>\n",
       "</table>\n",
       "</div>"
      ],
      "text/plain": [
       "        rating\n",
       "rating     1.0"
      ]
     },
     "execution_count": 22,
     "metadata": {},
     "output_type": "execute_result"
    }
   ],
   "source": [
    "# check the correlation \n",
    "\n",
    "corr_matrix = reviews.corr()\n",
    "corr_matrix"
   ]
  },
  {
   "cell_type": "markdown",
   "metadata": {},
   "source": [
    "## Step - 6 : Sentiment Analysis"
   ]
  },
  {
   "cell_type": "markdown",
   "metadata": {},
   "source": [
    "### 6.1 Set Target Variable - Labels"
   ]
  },
  {
   "cell_type": "markdown",
   "metadata": {},
   "source": [
    "Here I assigned the label 'Positive', 'Negative' and 'Neutral' based on rating and stored in 'Sentiments' variable"
   ]
  },
  {
   "cell_type": "code",
   "execution_count": 23,
   "metadata": {},
   "outputs": [
    {
     "data": {
      "text/plain": [
       "49    Positive\n",
       "94    Negative\n",
       "0     Negative\n",
       "21    Negative\n",
       "52    Positive\n",
       "93    Negative\n",
       "44    Positive\n",
       "48    Positive\n",
       "13    Negative\n",
       "60    Negative\n",
       "19    Negative\n",
       "16    Positive\n",
       "81     Neutral\n",
       "1     Negative\n",
       "11    Negative\n",
       "24    Positive\n",
       "97    Negative\n",
       "32    Positive\n",
       "33    Positive\n",
       "98     Neutral\n",
       "Name: Sentiment, dtype: object"
      ]
     },
     "execution_count": 23,
     "metadata": {},
     "output_type": "execute_result"
    }
   ],
   "source": [
    "def sentiments(rating):\n",
    "    if (rating == 5) or (rating == 4):\n",
    "        return \"Positive\"\n",
    "    elif rating == 3:\n",
    "        return \"Neutral\"\n",
    "    elif (rating == 2) or (rating == 1):\n",
    "        return \"Negative\"\n",
    "# Add sentiments to the data\n",
    "strat_train[\"Sentiment\"] = strat_train[\"rating\"].apply(sentiments)\n",
    "strat_test[\"Sentiment\"] = strat_test[\"rating\"].apply(sentiments)\n",
    "strat_train[\"Sentiment\"][:20]"
   ]
  },
  {
   "cell_type": "code",
   "execution_count": 24,
   "metadata": {},
   "outputs": [
    {
     "name": "stdout",
     "output_type": "stream",
     "text": [
      "80 20\n"
     ]
    }
   ],
   "source": [
    "# Prepare data for processing\n",
    "\n",
    "#traing dataset\n",
    "X_train = strat_train[\"content\"]\n",
    "X_train_targetSentiment = strat_train[\"Sentiment\"]\n",
    "\n",
    "#testing dataset\n",
    "X_test = strat_test[\"content\"]\n",
    "X_test_targetSentiment = strat_test[\"Sentiment\"]\n",
    "\n",
    "print(len(X_train), len(X_test))"
   ]
  },
  {
   "cell_type": "markdown",
   "metadata": {},
   "source": [
    "### 6.2 Extract Features"
   ]
  },
  {
   "cell_type": "markdown",
   "metadata": {},
   "source": [
    "Here I turn content into numerical feature vectors using the Bag of Words strategy: <br>\n",
    " - Assign fixed integer id to each word occurrence (integer indices to word occurrence dictionary)\n",
    " - X[i,j] where i is the integer indices, j is the word occurrence, and X is an array of words (our training set)"
   ]
  },
  {
   "cell_type": "markdown",
   "metadata": {},
   "source": [
    "In order to implement the Bag of Words strategy, we will use SciKit-Learn’s CountVectorizer to performs the following:\n",
    "\n",
    "   - Text preprocessing:\n",
    "   - Tokenization (breaking sentences into words)\n",
    "   - Stopwords (filtering “the”, “are”, etc)\n",
    "   - Occurrence counting (builds a dictionary of features from integer indices with word occurrences)\n",
    "   - Feature Vector (converts the dictionary of text documents into a feature vector)"
   ]
  },
  {
   "cell_type": "code",
   "execution_count": 25,
   "metadata": {},
   "outputs": [
    {
     "data": {
      "text/plain": [
       "(80, 1469)"
      ]
     },
     "execution_count": 25,
     "metadata": {},
     "output_type": "execute_result"
    }
   ],
   "source": [
    "# Replace \"nan\" with space\n",
    "\n",
    "X_train = X_train.fillna(' ')\n",
    "X_test = X_test.fillna(' ')\n",
    "X_train_targetSentiment = X_train_targetSentiment.fillna(' ')\n",
    "X_test_targetSentiment = X_test_targetSentiment.fillna(' ')\n",
    "\n",
    "# Text preprocessing and occurance counting\n",
    "\n",
    "from sklearn.feature_extraction.text import CountVectorizer \n",
    "count_vect = CountVectorizer()\n",
    "X_train_counts = count_vect.fit_transform(X_train) \n",
    "X_train_counts.shape"
   ]
  },
  {
   "cell_type": "markdown",
   "metadata": {},
   "source": [
    "Here I have 80 training samples and 1463 distinct words in my training sample."
   ]
  },
  {
   "cell_type": "markdown",
   "metadata": {},
   "source": [
    "Now I will use TfidfTransformer to reduce this redundancy:"
   ]
  },
  {
   "cell_type": "code",
   "execution_count": 26,
   "metadata": {},
   "outputs": [
    {
     "data": {
      "text/plain": [
       "(80, 1469)"
      ]
     },
     "execution_count": 26,
     "metadata": {},
     "output_type": "execute_result"
    }
   ],
   "source": [
    "from sklearn.feature_extraction.text import TfidfTransformer\n",
    "\n",
    "tfidf_transformer = TfidfTransformer(use_idf=False)\n",
    "X_train_tfidf = tfidf_transformer.fit_transform(X_train_counts)\n",
    "\n",
    "X_train_tfidf.shape"
   ]
  },
  {
   "cell_type": "markdown",
   "metadata": {},
   "source": [
    "### 6.3 Building a Pipeline from the Extracted Features"
   ]
  },
  {
   "cell_type": "code",
   "execution_count": 27,
   "metadata": {},
   "outputs": [
    {
     "data": {
      "text/plain": [
       "Pipeline(steps=[('vect', CountVectorizer()), ('tfidf', TfidfTransformer()),\n",
       "                ('clf_nominalNB', MultinomialNB())])"
      ]
     },
     "execution_count": 27,
     "metadata": {},
     "output_type": "execute_result"
    }
   ],
   "source": [
    "from sklearn.naive_bayes import MultinomialNB\n",
    "from sklearn.pipeline import Pipeline\n",
    "\n",
    "clf_multiNB_pipe = Pipeline([(\"vect\", CountVectorizer()),(\"tfidf\", TfidfTransformer()),(\"clf_nominalNB\", MultinomialNB())])\n",
    "clf_multiNB_pipe.fit(X_train, X_train_targetSentiment)"
   ]
  },
  {
   "cell_type": "markdown",
   "metadata": {},
   "source": [
    "### 6.4 Test the model"
   ]
  },
  {
   "cell_type": "code",
   "execution_count": 28,
   "metadata": {},
   "outputs": [
    {
     "data": {
      "text/plain": [
       "0.8"
      ]
     },
     "execution_count": 28,
     "metadata": {},
     "output_type": "execute_result"
    }
   ],
   "source": [
    "predictedMultiNB = clf_multiNB_pipe.predict(X_test)\n",
    "np.mean(predictedMultiNB == X_test_targetSentiment)"
   ]
  },
  {
   "cell_type": "markdown",
   "metadata": {},
   "source": [
    "### Now apply other ML algorithms"
   ]
  },
  {
   "cell_type": "markdown",
   "metadata": {},
   "source": [
    "#### 1. Logistics Regression"
   ]
  },
  {
   "cell_type": "code",
   "execution_count": 29,
   "metadata": {},
   "outputs": [
    {
     "data": {
      "text/plain": [
       "0.8"
      ]
     },
     "execution_count": 29,
     "metadata": {},
     "output_type": "execute_result"
    }
   ],
   "source": [
    "from sklearn.linear_model import LogisticRegression\n",
    "from sklearn.pipeline import Pipeline\n",
    "\n",
    "clf_logReg_pipe = Pipeline([(\"vect\", CountVectorizer()), \n",
    "                            (\"tfidf\", TfidfTransformer()), \n",
    "                            (\"clf_logReg\", LogisticRegression())])\n",
    "clf_logReg_pipe.fit(X_train, X_train_targetSentiment)\n",
    "\n",
    "import numpy as np\n",
    "predictedLogReg = clf_logReg_pipe.predict(X_test)\n",
    "np.mean(predictedLogReg == X_test_targetSentiment)"
   ]
  },
  {
   "cell_type": "markdown",
   "metadata": {},
   "source": [
    "#### 2. Decision Tree"
   ]
  },
  {
   "cell_type": "code",
   "execution_count": 30,
   "metadata": {},
   "outputs": [
    {
     "data": {
      "text/plain": [
       "0.7"
      ]
     },
     "execution_count": 30,
     "metadata": {},
     "output_type": "execute_result"
    }
   ],
   "source": [
    "from sklearn.tree import DecisionTreeClassifier\n",
    "\n",
    "clf_decisionTree_pipe = Pipeline([(\"vect\", CountVectorizer()), \n",
    "                                  (\"tfidf\", TfidfTransformer()), \n",
    "                                  (\"clf_decisionTree\", DecisionTreeClassifier())\n",
    "                                 ])\n",
    "clf_decisionTree_pipe.fit(X_train, X_train_targetSentiment)\n",
    "\n",
    "predictedDecisionTree = clf_decisionTree_pipe.predict(X_test)\n",
    "np.mean(predictedDecisionTree == X_test_targetSentiment)"
   ]
  },
  {
   "cell_type": "markdown",
   "metadata": {},
   "source": [
    "#### 3. Random Forest"
   ]
  },
  {
   "cell_type": "code",
   "execution_count": 31,
   "metadata": {},
   "outputs": [
    {
     "data": {
      "text/plain": [
       "0.85"
      ]
     },
     "execution_count": 31,
     "metadata": {},
     "output_type": "execute_result"
    }
   ],
   "source": [
    "from sklearn.ensemble import RandomForestClassifier\n",
    "\n",
    "clf_randomForest_pipe = Pipeline([(\"vect\", CountVectorizer()), \n",
    "                                  (\"tfidf\", TfidfTransformer()), \n",
    "                                  (\"clf_randomForest\", RandomForestClassifier())\n",
    "                                 ])\n",
    "clf_randomForest_pipe.fit(X_train, X_train_targetSentiment)\n",
    "\n",
    "predictedRandomForest = clf_randomForest_pipe.predict(X_test)\n",
    "np.mean(predictedRandomForest == X_test_targetSentiment)"
   ]
  },
  {
   "cell_type": "markdown",
   "metadata": {},
   "source": [
    "#### 4. Support Vector Machine"
   ]
  },
  {
   "cell_type": "code",
   "execution_count": 32,
   "metadata": {},
   "outputs": [
    {
     "data": {
      "text/plain": [
       "0.9"
      ]
     },
     "execution_count": 32,
     "metadata": {},
     "output_type": "execute_result"
    }
   ],
   "source": [
    "from sklearn.svm import LinearSVC\n",
    "\n",
    "clf_linearSVC_pipe = Pipeline([(\"vect\", CountVectorizer()), \n",
    "                               (\"tfidf\", TfidfTransformer()),\n",
    "                               (\"clf_linearSVC\", LinearSVC())])\n",
    "clf_linearSVC_pipe.fit(X_train, X_train_targetSentiment)\n",
    "\n",
    "predictedLinearSVC = clf_linearSVC_pipe.predict(X_test)\n",
    "np.mean(predictedLinearSVC == X_test_targetSentiment)"
   ]
  },
  {
   "cell_type": "markdown",
   "metadata": {},
   "source": [
    "Looks like all the models performed very well (>80%), and we will use the Support Vector Machine Classifier since it has the highest accuracy level at 90%."
   ]
  },
  {
   "cell_type": "markdown",
   "metadata": {},
   "source": [
    "### Step - 7 : Evaluation"
   ]
  },
  {
   "cell_type": "code",
   "execution_count": 33,
   "metadata": {},
   "outputs": [
    {
     "name": "stdout",
     "output_type": "stream",
     "text": [
      "              precision    recall  f1-score   support\n",
      "\n",
      "    Negative       0.83      1.00      0.91        10\n",
      "     Neutral       1.00      0.50      0.67         2\n",
      "    Positive       1.00      0.88      0.93         8\n",
      "\n",
      "    accuracy                           0.90        20\n",
      "   macro avg       0.94      0.79      0.84        20\n",
      "weighted avg       0.92      0.90      0.89        20\n",
      "\n",
      "Accuracy: 0.9\n"
     ]
    }
   ],
   "source": [
    "from sklearn.metrics import classification_report\n",
    "from sklearn.metrics import accuracy_score\n",
    "\n",
    "# used the accuracy_score matrix for classification \n",
    "\n",
    "print(classification_report(X_test_targetSentiment, predictedLinearSVC))\n",
    "print('Accuracy: {}'. format(accuracy_score(X_test_targetSentiment, predictedLinearSVC)))"
   ]
  },
  {
   "cell_type": "markdown",
   "metadata": {},
   "source": [
    "#### Model with labels (Sentiments)"
   ]
  },
  {
   "cell_type": "code",
   "execution_count": 34,
   "metadata": {},
   "outputs": [
    {
     "data": {
      "text/html": [
       "<div>\n",
       "<style scoped>\n",
       "    .dataframe tbody tr th:only-of-type {\n",
       "        vertical-align: middle;\n",
       "    }\n",
       "\n",
       "    .dataframe tbody tr th {\n",
       "        vertical-align: top;\n",
       "    }\n",
       "\n",
       "    .dataframe thead th {\n",
       "        text-align: right;\n",
       "    }\n",
       "</style>\n",
       "<table border=\"1\" class=\"dataframe\">\n",
       "  <thead>\n",
       "    <tr style=\"text-align: right;\">\n",
       "      <th></th>\n",
       "      <th>title</th>\n",
       "      <th>content</th>\n",
       "      <th>date</th>\n",
       "      <th>variant</th>\n",
       "      <th>images</th>\n",
       "      <th>verified</th>\n",
       "      <th>author</th>\n",
       "      <th>rating</th>\n",
       "      <th>product</th>\n",
       "      <th>url</th>\n",
       "      <th>Sentiment</th>\n",
       "    </tr>\n",
       "  </thead>\n",
       "  <tbody>\n",
       "    <tr>\n",
       "      <th>49</th>\n",
       "      <td>Good product</td>\n",
       "      <td>Phone is perfect for the price range but it do...</td>\n",
       "      <td>05-Oct-18</td>\n",
       "      <td>NaN</td>\n",
       "      <td>NaN</td>\n",
       "      <td>Yes</td>\n",
       "      <td>avinash dubey</td>\n",
       "      <td>4</td>\n",
       "      <td>Honor 7C Gold (5.99\" FullView Display, 64GB)</td>\n",
       "      <td>https://www.amazon.in/Honor-Gold-5-99-FullView...</td>\n",
       "      <td>Positive</td>\n",
       "    </tr>\n",
       "    <tr>\n",
       "      <th>94</th>\n",
       "      <td>Over heating product from Motorola.</td>\n",
       "      <td>I disliked the product. It's overheating while...</td>\n",
       "      <td>19-Oct-18</td>\n",
       "      <td>Colour: Lunar Grey</td>\n",
       "      <td>NaN</td>\n",
       "      <td>Yes</td>\n",
       "      <td>Amazon Customer</td>\n",
       "      <td>1</td>\n",
       "      <td>Motorola G5s Plus (Lunar Grey, 64GB)</td>\n",
       "      <td>https://www.amazon.in/Moto-Plus-Lunar-Grey-64G...</td>\n",
       "      <td>Negative</td>\n",
       "    </tr>\n",
       "    <tr>\n",
       "      <th>0</th>\n",
       "      <td>Defective mobile and poor service</td>\n",
       "      <td>Look wise this is good but it's performance wa...</td>\n",
       "      <td>27-Aug-19</td>\n",
       "      <td>NaN</td>\n",
       "      <td>NaN</td>\n",
       "      <td>Yes</td>\n",
       "      <td>Pankaj kumar Jha</td>\n",
       "      <td>1</td>\n",
       "      <td>Lenovo K6 Note (Silver)</td>\n",
       "      <td>https://www.amazon.in/Lenovo-K6-Note-Silver/pr...</td>\n",
       "      <td>Negative</td>\n",
       "    </tr>\n",
       "    <tr>\n",
       "      <th>21</th>\n",
       "      <td>Delicate Product</td>\n",
       "      <td>I am a fan of Moto G series mainly due to its ...</td>\n",
       "      <td>12-Oct-18</td>\n",
       "      <td>Colour: black</td>\n",
       "      <td>NaN</td>\n",
       "      <td>Yes</td>\n",
       "      <td>Prashant Aggarwal</td>\n",
       "      <td>1</td>\n",
       "      <td>Moto E5 Plus (Black, 3GB RAM, 32GB Storage)</td>\n",
       "      <td>https://www.amazon.in/Moto-Plus-Indigo-Black-b...</td>\n",
       "      <td>Negative</td>\n",
       "    </tr>\n",
       "    <tr>\n",
       "      <th>52</th>\n",
       "      <td>Though Snapdragon 430 is a Frustrating For The...</td>\n",
       "      <td>Picture Quality - Well, Picture Is Great. Its ...</td>\n",
       "      <td>04-Dec-18</td>\n",
       "      <td>NaN</td>\n",
       "      <td>NaN</td>\n",
       "      <td>Yes</td>\n",
       "      <td>Loyal Customer</td>\n",
       "      <td>4</td>\n",
       "      <td>Nokia 6 (Matte Black, 32GB)</td>\n",
       "      <td>https://www.amazon.in/Nokia-6-Matte-Black-32GB...</td>\n",
       "      <td>Positive</td>\n",
       "    </tr>\n",
       "    <tr>\n",
       "      <th>...</th>\n",
       "      <td>...</td>\n",
       "      <td>...</td>\n",
       "      <td>...</td>\n",
       "      <td>...</td>\n",
       "      <td>...</td>\n",
       "      <td>...</td>\n",
       "      <td>...</td>\n",
       "      <td>...</td>\n",
       "      <td>...</td>\n",
       "      <td>...</td>\n",
       "      <td>...</td>\n",
       "    </tr>\n",
       "    <tr>\n",
       "      <th>41</th>\n",
       "      <td>Great product BUT .....</td>\n",
       "      <td>So the thing is I've purchased this mobile a m...</td>\n",
       "      <td>19-Oct-18</td>\n",
       "      <td>NaN</td>\n",
       "      <td>NaN</td>\n",
       "      <td>Yes</td>\n",
       "      <td>Mohit Padamata</td>\n",
       "      <td>1</td>\n",
       "      <td>Honor 7C Gold (5.99\" FullView Display, 64GB)</td>\n",
       "      <td>https://www.amazon.in/Honor-Gold-5-99-FullView...</td>\n",
       "      <td>Negative</td>\n",
       "    </tr>\n",
       "    <tr>\n",
       "      <th>59</th>\n",
       "      <td>worst front camera</td>\n",
       "      <td>the metal body and design of the phone was stu...</td>\n",
       "      <td>09-Sep-17</td>\n",
       "      <td>NaN</td>\n",
       "      <td>NaN</td>\n",
       "      <td>Yes</td>\n",
       "      <td>sarat</td>\n",
       "      <td>3</td>\n",
       "      <td>Nokia 6 (Matte Black, 32GB)</td>\n",
       "      <td>https://www.amazon.in/Nokia-6-Matte-Black-32GB...</td>\n",
       "      <td>Neutral</td>\n",
       "    </tr>\n",
       "    <tr>\n",
       "      <th>54</th>\n",
       "      <td>Very good</td>\n",
       "      <td>Battery is good for normal user and it will la...</td>\n",
       "      <td>07-Jul-18</td>\n",
       "      <td>NaN</td>\n",
       "      <td>NaN</td>\n",
       "      <td>Yes</td>\n",
       "      <td>Sree</td>\n",
       "      <td>5</td>\n",
       "      <td>Nokia 6 (Matte Black, 32GB)</td>\n",
       "      <td>https://www.amazon.in/Nokia-6-Matte-Black-32GB...</td>\n",
       "      <td>Positive</td>\n",
       "    </tr>\n",
       "    <tr>\n",
       "      <th>82</th>\n",
       "      <td>Awesome</td>\n",
       "      <td>I have been using this phone for almost 7 mont...</td>\n",
       "      <td>18-Nov-18</td>\n",
       "      <td>NaN</td>\n",
       "      <td>https://images-na.ssl-images-amazon.com/images...</td>\n",
       "      <td>Yes</td>\n",
       "      <td>Nivya James</td>\n",
       "      <td>5</td>\n",
       "      <td>Nokia 8 (Polished Blue, 64GB)</td>\n",
       "      <td>https://www.amazon.in/Nokia-8-Polished-Blue-64...</td>\n",
       "      <td>Positive</td>\n",
       "    </tr>\n",
       "    <tr>\n",
       "      <th>92</th>\n",
       "      <td>Good phone, needs camera and software updates ...</td>\n",
       "      <td>Few highlights after 1 year of usage:- 1) Batt...</td>\n",
       "      <td>06-Oct-18</td>\n",
       "      <td>Colour: Lunar Grey</td>\n",
       "      <td>NaN</td>\n",
       "      <td>Yes</td>\n",
       "      <td>Surya Saini</td>\n",
       "      <td>4</td>\n",
       "      <td>Motorola G5s Plus (Lunar Grey, 64GB)</td>\n",
       "      <td>https://www.amazon.in/Moto-Plus-Lunar-Grey-64G...</td>\n",
       "      <td>Positive</td>\n",
       "    </tr>\n",
       "  </tbody>\n",
       "</table>\n",
       "<p>80 rows × 11 columns</p>\n",
       "</div>"
      ],
      "text/plain": [
       "                                                title  \\\n",
       "49                                       Good product   \n",
       "94                Over heating product from Motorola.   \n",
       "0                   Defective mobile and poor service   \n",
       "21                                   Delicate Product   \n",
       "52  Though Snapdragon 430 is a Frustrating For The...   \n",
       "..                                                ...   \n",
       "41                            Great product BUT .....   \n",
       "59                                 worst front camera   \n",
       "54                                          Very good   \n",
       "82                                            Awesome   \n",
       "92  Good phone, needs camera and software updates ...   \n",
       "\n",
       "                                              content       date  \\\n",
       "49  Phone is perfect for the price range but it do...  05-Oct-18   \n",
       "94  I disliked the product. It's overheating while...  19-Oct-18   \n",
       "0   Look wise this is good but it's performance wa...  27-Aug-19   \n",
       "21  I am a fan of Moto G series mainly due to its ...  12-Oct-18   \n",
       "52  Picture Quality - Well, Picture Is Great. Its ...  04-Dec-18   \n",
       "..                                                ...        ...   \n",
       "41  So the thing is I've purchased this mobile a m...  19-Oct-18   \n",
       "59  the metal body and design of the phone was stu...  09-Sep-17   \n",
       "54  Battery is good for normal user and it will la...  07-Jul-18   \n",
       "82  I have been using this phone for almost 7 mont...  18-Nov-18   \n",
       "92  Few highlights after 1 year of usage:- 1) Batt...  06-Oct-18   \n",
       "\n",
       "               variant                                             images  \\\n",
       "49                 NaN                                                NaN   \n",
       "94  Colour: Lunar Grey                                                NaN   \n",
       "0                  NaN                                                NaN   \n",
       "21       Colour: black                                                NaN   \n",
       "52                 NaN                                                NaN   \n",
       "..                 ...                                                ...   \n",
       "41                 NaN                                                NaN   \n",
       "59                 NaN                                                NaN   \n",
       "54                 NaN                                                NaN   \n",
       "82                 NaN  https://images-na.ssl-images-amazon.com/images...   \n",
       "92  Colour: Lunar Grey                                                NaN   \n",
       "\n",
       "   verified             author  rating  \\\n",
       "49      Yes      avinash dubey       4   \n",
       "94      Yes    Amazon Customer       1   \n",
       "0       Yes   Pankaj kumar Jha       1   \n",
       "21      Yes  Prashant Aggarwal       1   \n",
       "52      Yes     Loyal Customer       4   \n",
       "..      ...                ...     ...   \n",
       "41      Yes     Mohit Padamata       1   \n",
       "59      Yes              sarat       3   \n",
       "54      Yes               Sree       5   \n",
       "82      Yes        Nivya James       5   \n",
       "92      Yes        Surya Saini       4   \n",
       "\n",
       "                                         product  \\\n",
       "49  Honor 7C Gold (5.99\" FullView Display, 64GB)   \n",
       "94          Motorola G5s Plus (Lunar Grey, 64GB)   \n",
       "0                        Lenovo K6 Note (Silver)   \n",
       "21   Moto E5 Plus (Black, 3GB RAM, 32GB Storage)   \n",
       "52                   Nokia 6 (Matte Black, 32GB)   \n",
       "..                                           ...   \n",
       "41  Honor 7C Gold (5.99\" FullView Display, 64GB)   \n",
       "59                   Nokia 6 (Matte Black, 32GB)   \n",
       "54                   Nokia 6 (Matte Black, 32GB)   \n",
       "82                 Nokia 8 (Polished Blue, 64GB)   \n",
       "92          Motorola G5s Plus (Lunar Grey, 64GB)   \n",
       "\n",
       "                                                  url Sentiment  \n",
       "49  https://www.amazon.in/Honor-Gold-5-99-FullView...  Positive  \n",
       "94  https://www.amazon.in/Moto-Plus-Lunar-Grey-64G...  Negative  \n",
       "0   https://www.amazon.in/Lenovo-K6-Note-Silver/pr...  Negative  \n",
       "21  https://www.amazon.in/Moto-Plus-Indigo-Black-b...  Negative  \n",
       "52  https://www.amazon.in/Nokia-6-Matte-Black-32GB...  Positive  \n",
       "..                                                ...       ...  \n",
       "41  https://www.amazon.in/Honor-Gold-5-99-FullView...  Negative  \n",
       "59  https://www.amazon.in/Nokia-6-Matte-Black-32GB...   Neutral  \n",
       "54  https://www.amazon.in/Nokia-6-Matte-Black-32GB...  Positive  \n",
       "82  https://www.amazon.in/Nokia-8-Polished-Blue-64...  Positive  \n",
       "92  https://www.amazon.in/Moto-Plus-Lunar-Grey-64G...  Positive  \n",
       "\n",
       "[80 rows x 11 columns]"
      ]
     },
     "execution_count": 34,
     "metadata": {},
     "output_type": "execute_result"
    }
   ],
   "source": [
    "strat_train"
   ]
  },
  {
   "cell_type": "markdown",
   "metadata": {},
   "source": [
    "### Store the Result"
   ]
  },
  {
   "cell_type": "code",
   "execution_count": 35,
   "metadata": {},
   "outputs": [],
   "source": [
    "# Here I store the above dataset into a csv file for future use\n",
    "\n",
    "strat_train.to_csv('Result.csv', index=False)"
   ]
  },
  {
   "cell_type": "code",
   "execution_count": null,
   "metadata": {},
   "outputs": [],
   "source": []
  }
 ],
 "metadata": {
  "kernelspec": {
   "display_name": "Python 3",
   "language": "python",
   "name": "python3"
  },
  "language_info": {
   "codemirror_mode": {
    "name": "ipython",
    "version": 3
   },
   "file_extension": ".py",
   "mimetype": "text/x-python",
   "name": "python",
   "nbconvert_exporter": "python",
   "pygments_lexer": "ipython3",
   "version": "3.8.3"
  }
 },
 "nbformat": 4,
 "nbformat_minor": 4
}
